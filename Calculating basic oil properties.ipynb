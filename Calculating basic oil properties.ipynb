{
 "cells": [
  {
   "cell_type": "code",
   "execution_count": 1,
   "metadata": {},
   "outputs": [],
   "source": [
    "names = ['C3', 'nC4', 'nC5', 'nC6']\n",
    "xv = [0.05, 0.10, 0.15, 0.70]\n",
    "rho = [507.2, 583.9, 629.5, 659.8]\n",
    "MW = [44.09, 58.12, 72.15, 86.17]"
   ]
  },
  {
   "cell_type": "code",
   "execution_count": 2,
   "metadata": {},
   "outputs": [],
   "source": [
    "# Solution\n",
    "ncomps = len(xv)\n",
    "V = xv\n",
    "m = [rho[i]*V[i] for i in range(ncomps)]\n",
    "sum_mass = sum(m)\n",
    "w = [m[i]/sum_mass for i in range(ncomps)]\n",
    "n = [m[i]/(MW[i]) for i in range(ncomps)]\n",
    "tot_kmoles = sum(n)\n",
    "x = [n[i]/tot_kmoles for i in range(ncomps)]"
   ]
  },
  {
   "cell_type": "code",
   "execution_count": 3,
   "metadata": {},
   "outputs": [],
   "source": [
    "Mix_MW = sum_mass / tot_kmoles\n",
    "rho_o = sum_mass / 1\n",
    "sg_o = rho_o / 999.0\n",
    "degAPI = 141.5 / sg_o - 131.5\n",
    "nc6 = 1000*n[3]\n",
    "vnc5 = 1000*V[2]*6.289*42\n",
    "Mass_nc4 =  1000*m[1]*2.205"
   ]
  },
  {
   "cell_type": "code",
   "execution_count": 4,
   "metadata": {},
   "outputs": [
    {
     "name": "stdout",
     "output_type": "stream",
     "text": [
      "Table B-5 - Composition Conversions for Mixtures (Problem 3)\n",
      "Component    Vol Frac    Vol    Density    Mass     Weight Frac    MW     Moles    Mole Frac\n",
      "-----------  ----------  -----  ---------  -------  -------------  -----  -------  -----------\n",
      "C3           0.05        0.05   507.2      25.36    0.04           44.09  0.575    0.07\n",
      "nC4          0.1         0.1    583.9      58.39    0.091          58.12  1.005    0.122\n",
      "nC5          0.15        0.15   629.5      94.42    0.148          72.15  1.309    0.159\n",
      "nC6          0.7         0.7    659.8      461.86   0.722          86.17  5.36     0.65\n",
      "----         ----        ----   ----       ----     ----           ----   ----     ----\n",
      "                         1.0               640.035  1.0                   8.248    1.0\n",
      " \n",
      "Mixture MW: 77.595 lbm/lbm mol\n",
      "Mixture Density: 640.035 kg/m3\n",
      "Mixture SG:: 0.641 (water = 1)\n",
      "degrees API: 89.361 API\n",
      "Moles nC6: 5359.87 kmol\n",
      "Volume nC5: 39620.7 gal\n",
      "Mass nC4: 128749.95 lbm\n"
     ]
    }
   ],
   "source": [
    "#Print out results\n",
    "from tabulate import tabulate\n",
    "print('Table B-5 - Composition Conversions for Mixtures (Problem 3)')\n",
    "header=['Component', 'Vol Frac', 'Vol', 'Density', 'Mass', 'Weight Frac', 'MW', 'Moles', 'Mole Frac']\n",
    "result_table = []\n",
    "for i in range (ncomps):\n",
    "    result_table.append([names[i], xv[i], V[i], rho[i], round(m[i],2), round(w[i],3), MW[i], round(n[i],3), round(x[i],3)])\n",
    "result_table.append(['----', '----', '----', '----', '----', '----', '----', '----', '----'])\n",
    "result_table.append([' ', ' ', sum(V), ' ', sum(m), sum(w), ' ', round(sum(n),3), sum(x)])\n",
    "print(tabulate(result_table,headers=header))\n",
    "\n",
    "print(' ')\n",
    "print('Mixture MW:', round(Mix_MW,3), 'lbm/lbm mol')\n",
    "print('Mixture Density:', round(rho_o, 3), 'kg/m3')\n",
    "print('Mixture SG::', round(sg_o,3), '(water = 1)')\n",
    "print('degrees API:', round(degAPI,3), 'API')\n",
    "print('Moles nC6:', round(nc6,3), 'kmol')\n",
    "print('Volume nC5:', round(vnc5,3), 'gal')\n",
    "print('Mass nC4:', round(Mass_nc4,3), 'lbm')"
   ]
  },
  {
   "cell_type": "code",
   "execution_count": null,
   "metadata": {},
   "outputs": [],
   "source": []
  }
 ],
 "metadata": {
  "kernelspec": {
   "display_name": "Python 3",
   "language": "python",
   "name": "python3"
  },
  "language_info": {
   "codemirror_mode": {
    "name": "ipython",
    "version": 3
   },
   "file_extension": ".py",
   "mimetype": "text/x-python",
   "name": "python",
   "nbconvert_exporter": "python",
   "pygments_lexer": "ipython3",
   "version": "3.6.5"
  }
 },
 "nbformat": 4,
 "nbformat_minor": 2
}
