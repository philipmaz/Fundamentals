{
 "cells": [
  {
   "cell_type": "code",
   "execution_count": 5,
   "metadata": {},
   "outputs": [],
   "source": [
    "names = ['C1', 'C2', 'C3']\n",
    "M = [16.04, 30.07, 44.09]\n",
    "x = [0.49, 0.38, 0.13]\n",
    "R = 10.73146 # Universal gas constant, psia-ft3/R-lbm mol"
   ]
  },
  {
   "cell_type": "code",
   "execution_count": 6,
   "metadata": {},
   "outputs": [],
   "source": [
    "# Solution\n",
    "ncomps = len(M)\n",
    "m = [x[i]*M[i] for i in range(ncomps)] # Calculate mass of each component\n",
    "sum_mass = sum(m) # Total mass\n",
    "w = [m[i]/sum_mass for i in range(ncomps)] # Weight fractions\n",
    "Mg = sum_mass / sum(x)\n",
    "sg = sum_mass / 28.97\n",
    "t = 120 #deg F\n",
    "p = 20 # psia\n",
    "rhog = p*Mg / (1*R*(t+460))\n",
    "rhog_si = 3.1*24.97/(1*0.082055*(50+273))"
   ]
  },
  {
   "cell_type": "code",
   "execution_count": 7,
   "metadata": {},
   "outputs": [
    {
     "name": "stdout",
     "output_type": "stream",
     "text": [
      "Table B-2 - Mass and Mass (Weight) Fractions (Problem 1)\n",
      "Component      Molecular Weight    Mole Frac     Mass    Weight Frac\n",
      "-----------  ------------------  -----------  -------  -------------\n",
      "C1                        16.04         0.49   7.8596       0.314159\n",
      "C2                        30.07         0.38  11.4266       0.456737\n",
      "C3                        44.09         0.13   5.7317       0.229104\n",
      " \n",
      "Average MW: 25.018 lbm/lbm mol\n",
      "Gas SG: 0.864 (air = 1)\n",
      "Gas Density: 0.08 lbm/ft3\n",
      "Gas Density (SI): 2.921 kg/m3\n"
     ]
    }
   ],
   "source": [
    "#Print out summary\n",
    "from tabulate import tabulate\n",
    "print('Table B-2 - Mass and Mass (Weight) Fractions (Problem 1)')\n",
    "header=['Component', 'Molecular Weight', 'Mole Frac', 'Mass', 'Weight Frac', 'fli', 'fli/fvi']\n",
    "result_table = []\n",
    "for i in range (ncomps):\n",
    "    result_table.append([names[i], M[i], x[i], m[i], w[i]])\n",
    "print(tabulate(result_table,headers=header))\n",
    "\n",
    "print(' ')\n",
    "print('Average MW:', round(Mg,3), 'lbm/lbm mol')\n",
    "print('Gas SG:', round(sg, 3), '(air = 1)')\n",
    "print('Gas Density:', round(rhog,3), 'lbm/ft3')\n",
    "print('Gas Density (SI):', round(rhog_si,3), 'kg/m3')"
   ]
  },
  {
   "cell_type": "code",
   "execution_count": null,
   "metadata": {},
   "outputs": [],
   "source": []
  }
 ],
 "metadata": {
  "kernelspec": {
   "display_name": "Python 3",
   "language": "python",
   "name": "python3"
  },
  "language_info": {
   "codemirror_mode": {
    "name": "ipython",
    "version": 3
   },
   "file_extension": ".py",
   "mimetype": "text/x-python",
   "name": "python",
   "nbconvert_exporter": "python",
   "pygments_lexer": "ipython3",
   "version": "3.6.5"
  }
 },
 "nbformat": 4,
 "nbformat_minor": 2
}
